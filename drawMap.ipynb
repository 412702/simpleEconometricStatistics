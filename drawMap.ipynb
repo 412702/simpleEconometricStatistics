{
 "cells": [
  {
   "cell_type": "code",
   "execution_count": null,
   "id": "infectious-balloon",
   "metadata": {},
   "outputs": [],
   "source": [
    "import numpy as np\n",
    "import pandas as pd\n",
    "import os\n",
    "import math\n",
    "import random\n",
    "from tqdm import tqdm\n",
    "import warnings\n",
    "\n",
    "import plotly.express as px\n",
    "import plotly.graph_objects as go\n",
    "import plotly.figure_factory as ff\n",
    "\n",
    "warnings.filterwarnings('ignore')"
   ]
  },
  {
   "cell_type": "code",
   "execution_count": null,
   "id": "fabulous-bonus",
   "metadata": {},
   "outputs": [],
   "source": [
    "color_list = ['algae','amp','blues','blugrn','bluyl','brwnyl','bugn','burg','burgyl','darkmint','emrld','greens','greys',\n",
    "              'oranges','peach','purples','reds','redor','ylorrd']\n",
    "\n",
    "with open('./geoData//Boundaries - ZIP Codes.geojson') as f:\n",
    "    chicago_zip_zone = json.load(f)\n",
    "    \n",
    "def drawChicagoZipData(df_main, by_zip, draw_columns, title_text = '',theme='algae'):\n",
    "    fig_draw = px.choropleth(df_main, geojson=chicago_zip_zone, color = draw_columns,\n",
    "                    locations=by_zip, featureidkey=\"properties.zip\",\n",
    "                    projection=\"mercator\",color_continuous_scale=theme\n",
    "                   )\n",
    "    fig_draw.update_geos(fitbounds=\"locations\", visible=False)\n",
    "    fig_draw.update_layout(\n",
    "        margin={\"r\":0,\"t\":0,\"l\":0,\"b\":0},\n",
    "        height=750,width=750,\n",
    "        title={\n",
    "            'text': title_text,\n",
    "            'x':0.5,\n",
    "            'y': 0.06,\n",
    "            }\n",
    "    )\n",
    "    fig_draw.show()"
   ]
  },
  {
   "cell_type": "code",
   "execution_count": null,
   "id": "elegant-telling",
   "metadata": {},
   "outputs": [],
   "source": [
    "fig = go.Figure(go.Scattermapbox())\n",
    "#     mode = \"markers\",\n",
    "#     lon = [-87.588352326], lat = [41.758131167],\n",
    "#     marker = {'size': 1, 'color': [\"cyan\"]}))\n",
    "# 用上面些参数可以来标点\n",
    "layer_list = []\n",
    "for feature in tqdm(chicago_zip_zone['features']):\n",
    "    layer_list.append({'source': feature,'type': \"fill\", 'below': \"traces\", 'color': \"royalblue\"})\n",
    "    \n",
    "fig.update_layout(\n",
    "    mapbox = {\n",
    "        'style': \"stamen-terrain\",\n",
    "        'center': { 'lon': -87.588352326, 'lat': 41.758131167},\n",
    "        'zoom': 9, 'layers': layer_list\n",
    "    },\n",
    "    margin = {'l':0, 'r':0, 'b':0, 't':0})\n",
    "\n",
    "fig.show()"
   ]
  },
  {
   "cell_type": "code",
   "execution_count": null,
   "id": "outdoor-puppy",
   "metadata": {},
   "outputs": [],
   "source": [
    "countByZip5 = pd.read_csv('./countByZip5.csv', dtype={'ZIP5': str})"
   ]
  },
  {
   "cell_type": "code",
   "execution_count": null,
   "id": "alternate-charm",
   "metadata": {},
   "outputs": [],
   "source": [
    "countByZip5.head()"
   ]
  },
  {
   "cell_type": "code",
   "execution_count": null,
   "id": "based-military",
   "metadata": {},
   "outputs": [],
   "source": [
    "drawChicagoZipData(countByZip5[['ZIP5', 'Fire_num_count']], 'ZIP5', 'Fire_num_count', title_text='Fire Number by ZIP5')"
   ]
  },
  {
   "cell_type": "code",
   "execution_count": null,
   "id": "incorrect-mouse",
   "metadata": {},
   "outputs": [],
   "source": [
    "drawChicagoZipData(countByZip5[['ZIP5', 'building_violations_count']], 'ZIP5',\n",
    "                   'building_violations_count', title_text='Building Violations by ZIP5', theme='ylorrd')"
   ]
  },
  {
   "cell_type": "code",
   "execution_count": null,
   "id": "scientific-remove",
   "metadata": {},
   "outputs": [],
   "source": [
    "drawChicagoZipData(countByZip5[['ZIP5', 'not_permit_num']], 'ZIP5',\n",
    "                   'not_permit_num', title_text='Building not permitted by ZIP5', theme='ylorrd')"
   ]
  },
  {
   "cell_type": "code",
   "execution_count": null,
   "id": "infrared-applicant",
   "metadata": {},
   "outputs": [],
   "source": [
    "drawChicagoZipData(countByZip5[['ZIP5',  'Population_Total']], 'ZIP5',\n",
    "                   'Population_Total', \n",
    "                   title_text='Population Total by ZIP5', theme='amp')"
   ]
  },
  {
   "cell_type": "code",
   "execution_count": null,
   "id": "wrong-counter",
   "metadata": {},
   "outputs": [],
   "source": [
    "drawChicagoZipData(countByZip5[['ZIP5',  'Safty_Expect_Fee_per_1000']], 'ZIP5',\n",
    "                   'Safty_Expect_Fee_per_1000', \n",
    "                   title_text='Expect Fee for Safty by ZIP5',theme='amp')"
   ]
  },
  {
   "cell_type": "code",
   "execution_count": null,
   "id": "turned-repeat",
   "metadata": {},
   "outputs": [],
   "source": [
    "drawChicagoZipData(countByZip5[['ZIP5',  'Safty_Importance_Rank']], 'ZIP5',\n",
    "                   'Safty_Importance_Rank', \n",
    "                   title_text='Importance for Safty by ZIP5',theme='ice')"
   ]
  },
  {
   "cell_type": "code",
   "execution_count": null,
   "id": "portuguese-starter",
   "metadata": {},
   "outputs": [],
   "source": [
    "drawChicagoZipData(countByZip5[['ZIP5',  'chicago_red_light_violations']], 'ZIP5',\n",
    "                   'chicago_red_light_violations', \n",
    "                   title_text='Red Light Violations Number by ZIP5',theme='amp')"
   ]
  },
  {
   "cell_type": "code",
   "execution_count": null,
   "id": "controversial-demonstration",
   "metadata": {},
   "outputs": [],
   "source": [
    "drawChicagoZipData(countByZip5[['ZIP5',  'speed_violations']], 'ZIP5',\n",
    "                   'speed_violations', \n",
    "                   title_text='Speed Violations Number by ZIP5',theme='amp')"
   ]
  },
  {
   "cell_type": "code",
   "execution_count": null,
   "id": "australian-lying",
   "metadata": {},
   "outputs": [],
   "source": [
    "drawChicagoZipData(countByZip5[['ZIP5',  'sup_person_need']], 'ZIP5',\n",
    "                   'sup_person_need', \n",
    "                   title_text='Suppression Person Needed Number by ZIP5',theme='amp')"
   ]
  },
  {
   "cell_type": "code",
   "execution_count": null,
   "id": "contemporary-empty",
   "metadata": {},
   "outputs": [],
   "source": [
    "drawChicagoZipData(countByZip5[['ZIP5',  'property_loss']], 'ZIP5',\n",
    "                   'property_loss', \n",
    "                   title_text='Property Loss Summary by ZIP5',theme='amp')"
   ]
  },
  {
   "cell_type": "code",
   "execution_count": null,
   "id": "lucky-religion",
   "metadata": {},
   "outputs": [],
   "source": [
    "drawChicagoZipData(countByZip5[['ZIP5',  'school_num']], 'ZIP5',\n",
    "                   'school_num', \n",
    "                   title_text='School Number by ZIP5',theme='amp')"
   ]
  },
  {
   "cell_type": "code",
   "execution_count": null,
   "id": "deluxe-arlington",
   "metadata": {},
   "outputs": [],
   "source": [
    "drawChicagoZipData(countByZip5[['ZIP5',  'buildings_num']], 'ZIP5',\n",
    "                   'buildings_num', \n",
    "                   title_text='Buildings Number by ZIP5',theme='amp')"
   ]
  },
  {
   "cell_type": "code",
   "execution_count": null,
   "id": "practical-gibson",
   "metadata": {},
   "outputs": [],
   "source": []
  },
  {
   "cell_type": "code",
   "execution_count": null,
   "id": "numeric-preliminary",
   "metadata": {},
   "outputs": [],
   "source": []
  },
  {
   "cell_type": "code",
   "execution_count": null,
   "id": "thirty-transsexual",
   "metadata": {},
   "outputs": [],
   "source": []
  },
  {
   "cell_type": "code",
   "execution_count": null,
   "id": "abandoned-induction",
   "metadata": {},
   "outputs": [],
   "source": []
  }
 ],
 "metadata": {
  "kernelspec": {
   "display_name": "Python [conda env:root] *",
   "language": "python",
   "name": "conda-root-py"
  },
  "language_info": {
   "codemirror_mode": {
    "name": "ipython",
    "version": 3
   },
   "file_extension": ".py",
   "mimetype": "text/x-python",
   "name": "python",
   "nbconvert_exporter": "python",
   "pygments_lexer": "ipython3",
   "version": "3.8.8"
  },
  "toc": {
   "base_numbering": 1,
   "nav_menu": {},
   "number_sections": true,
   "sideBar": true,
   "skip_h1_title": false,
   "title_cell": "Table of Contents",
   "title_sidebar": "Contents",
   "toc_cell": false,
   "toc_position": {},
   "toc_section_display": true,
   "toc_window_display": false
  }
 },
 "nbformat": 4,
 "nbformat_minor": 5
}
